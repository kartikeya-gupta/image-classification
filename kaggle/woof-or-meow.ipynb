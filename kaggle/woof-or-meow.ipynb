{
 "cells": [
  {
   "cell_type": "code",
   "execution_count": 1,
   "id": "f4afbb4f",
   "metadata": {
    "_cell_guid": "b1076dfc-b9ad-4769-8c92-a6c4dae69d19",
    "_uuid": "8f2839f25d086af736a60e9eeb907d3b93b6e0e5",
    "execution": {
     "iopub.execute_input": "2021-08-21T08:11:36.618404Z",
     "iopub.status.busy": "2021-08-21T08:11:36.616912Z",
     "iopub.status.idle": "2021-08-21T08:11:36.629758Z",
     "shell.execute_reply": "2021-08-21T08:11:36.630450Z",
     "shell.execute_reply.started": "2021-08-21T07:53:28.741089Z"
    },
    "papermill": {
     "duration": 0.031567,
     "end_time": "2021-08-21T08:11:36.630750",
     "exception": false,
     "start_time": "2021-08-21T08:11:36.599183",
     "status": "completed"
    },
    "tags": []
   },
   "outputs": [
    {
     "name": "stdout",
     "output_type": "stream",
     "text": [
      "/kaggle/input/dogs-vs-cats/test1.zip\n",
      "/kaggle/input/dogs-vs-cats/train.zip\n",
      "/kaggle/input/dogs-vs-cats/sampleSubmission.csv\n"
     ]
    }
   ],
   "source": [
    "import numpy as np # linear algebra\n",
    "import pandas as pd # data processing, CSV file I/O (e.g. pd.read_csv)\n",
    "\n",
    "\n",
    "import os\n",
    "import matplotlib.pyplot as plt\n",
    "from PIL import Image\n",
    "\n",
    "import zipfile\n",
    "\n",
    "for dirname, _, filenames in os.walk('/kaggle/input'):\n",
    "    for filename in filenames:\n",
    "        print(os.path.join(dirname, filename))\n"
   ]
  },
  {
   "cell_type": "code",
   "execution_count": 2,
   "id": "7a4247bd",
   "metadata": {
    "execution": {
     "iopub.execute_input": "2021-08-21T08:11:36.659761Z",
     "iopub.status.busy": "2021-08-21T08:11:36.659260Z",
     "iopub.status.idle": "2021-08-21T08:11:38.051330Z",
     "shell.execute_reply": "2021-08-21T08:11:38.050763Z",
     "shell.execute_reply.started": "2021-08-21T07:53:30.772856Z"
    },
    "papermill": {
     "duration": 1.40787,
     "end_time": "2021-08-21T08:11:38.051457",
     "exception": false,
     "start_time": "2021-08-21T08:11:36.643587",
     "status": "completed"
    },
    "tags": []
   },
   "outputs": [],
   "source": [
    "import torch\n",
    "import torch.nn as nn\n",
    "import torchvision\n",
    "from torch.utils.data import Dataset, DataLoader, ConcatDataset\n",
    "from torchvision import transforms\n",
    "import tqdm"
   ]
  },
  {
   "cell_type": "code",
   "execution_count": 3,
   "id": "09c6fb5c",
   "metadata": {
    "execution": {
     "iopub.execute_input": "2021-08-21T08:11:38.081172Z",
     "iopub.status.busy": "2021-08-21T08:11:38.080564Z",
     "iopub.status.idle": "2021-08-21T08:11:54.855136Z",
     "shell.execute_reply": "2021-08-21T08:11:54.854623Z",
     "shell.execute_reply.started": "2021-08-21T07:53:51.038117Z"
    },
    "papermill": {
     "duration": 16.79102,
     "end_time": "2021-08-21T08:11:54.855278",
     "exception": false,
     "start_time": "2021-08-21T08:11:38.064258",
     "status": "completed"
    },
    "tags": []
   },
   "outputs": [],
   "source": [
    "# Extracting data\n",
    "train_dir = \"/kaggle/input/dogs-vs-cats/train.zip\"\n",
    "test_dir = \"/kaggle/input/dogs-vs-cats/test1.zip\"\n",
    "\n",
    "with zipfile.ZipFile(train_dir,\"r\") as z:\n",
    "    z.extractall(\".\")\n",
    "    \n",
    "with zipfile.ZipFile(test_dir,\"r\") as z:\n",
    "    z.extractall(\".\")"
   ]
  },
  {
   "cell_type": "code",
   "execution_count": 4,
   "id": "10415925",
   "metadata": {
    "execution": {
     "iopub.execute_input": "2021-08-21T08:11:54.883890Z",
     "iopub.status.busy": "2021-08-21T08:11:54.883170Z",
     "iopub.status.idle": "2021-08-21T08:11:54.904720Z",
     "shell.execute_reply": "2021-08-21T08:11:54.904293Z",
     "shell.execute_reply.started": "2021-08-21T07:54:09.144635Z"
    },
    "papermill": {
     "duration": 0.037208,
     "end_time": "2021-08-21T08:11:54.904826",
     "exception": false,
     "start_time": "2021-08-21T08:11:54.867618",
     "status": "completed"
    },
    "tags": []
   },
   "outputs": [],
   "source": [
    "train_dir = \"/kaggle/working/train\"\n",
    "test_dir = \"/kaggle/working/test1\"\n",
    "\n",
    "train_files = os.listdir(train_dir)\n",
    "test_files = os.listdir(test_dir)"
   ]
  },
  {
   "cell_type": "code",
   "execution_count": 5,
   "id": "ea187d97",
   "metadata": {
    "execution": {
     "iopub.execute_input": "2021-08-21T08:11:54.945290Z",
     "iopub.status.busy": "2021-08-21T08:11:54.943580Z",
     "iopub.status.idle": "2021-08-21T08:11:54.945974Z",
     "shell.execute_reply": "2021-08-21T08:11:54.946365Z",
     "shell.execute_reply.started": "2021-08-21T07:54:09.171911Z"
    },
    "papermill": {
     "duration": 0.02966,
     "end_time": "2021-08-21T08:11:54.946497",
     "exception": false,
     "start_time": "2021-08-21T08:11:54.916837",
     "status": "completed"
    },
    "tags": []
   },
   "outputs": [],
   "source": [
    "class DogCatDataset(Dataset):\n",
    "    def __init__(self, file_list, dir, mode= 'train', transform = None):\n",
    "        self.file_list = file_list\n",
    "        self.dir = dir\n",
    "        self.mode = mode\n",
    "        self.transform = transform\n",
    "        \n",
    "        if self.mode == 'train':\n",
    "            if 'dog' in self.file_list[0]:\n",
    "                self.label = 1\n",
    "            else:\n",
    "                self.label = 0\n",
    "                \n",
    "    def __len__(self):\n",
    "        length = len(self.file_list)\n",
    "        return length\n",
    "    \n",
    "    def __getitem__(self, idx):\n",
    "        img = Image.open(os.path.join(self.dir, self.file_list[idx]))\n",
    "        \n",
    "        if self.transform:\n",
    "            img = self.transform(img)\n",
    "            \n",
    "        if self.mode == 'train':\n",
    "            img = img.numpy()\n",
    "            return img.astype('float32'), self.label\n",
    "        else:\n",
    "            img = img.numpy()\n",
    "            return img.astype('float32'), self.file_list[idx]\n",
    "        \n",
    "        \n",
    "        \n",
    "data_transform = transforms.Compose([\n",
    "    transforms.Resize(256),\n",
    "    transforms.ColorJitter(),\n",
    "    transforms.RandomCrop(224),\n",
    "    transforms.RandomHorizontalFlip(),\n",
    "    transforms.Resize(128),\n",
    "    transforms.ToTensor()\n",
    "])\n",
    "\n",
    "cat_files = [tf for tf in train_files if 'cat' in tf]\n",
    "dog_files = [tf for tf in train_files if 'dog' in tf]\n",
    "\n",
    "cats= DogCatDataset(cat_files, train_dir, transform = data_transform)\n",
    "dogs= DogCatDataset(dog_files, train_dir, transform = data_transform)\n",
    "\n",
    "catdogs = ConcatDataset([cats, dogs])"
   ]
  },
  {
   "cell_type": "code",
   "execution_count": 6,
   "id": "6be67788",
   "metadata": {
    "execution": {
     "iopub.execute_input": "2021-08-21T08:11:54.975673Z",
     "iopub.status.busy": "2021-08-21T08:11:54.974452Z",
     "iopub.status.idle": "2021-08-21T08:11:54.976748Z",
     "shell.execute_reply": "2021-08-21T08:11:54.977162Z",
     "shell.execute_reply.started": "2021-08-21T07:54:09.189751Z"
    },
    "papermill": {
     "duration": 0.018603,
     "end_time": "2021-08-21T08:11:54.977286",
     "exception": false,
     "start_time": "2021-08-21T08:11:54.958683",
     "status": "completed"
    },
    "tags": []
   },
   "outputs": [],
   "source": [
    "dataloader = DataLoader(catdogs, batch_size= 32, shuffle= True,\n",
    "                       num_workers=4)\n",
    "\n",
    "#samples, labels = iter(dataloader).next()"
   ]
  },
  {
   "cell_type": "code",
   "execution_count": 7,
   "id": "86ddb864",
   "metadata": {
    "execution": {
     "iopub.execute_input": "2021-08-21T08:11:55.051541Z",
     "iopub.status.busy": "2021-08-21T08:11:55.050919Z",
     "iopub.status.idle": "2021-08-21T08:12:00.967783Z",
     "shell.execute_reply": "2021-08-21T08:12:00.967277Z",
     "shell.execute_reply.started": "2021-08-21T07:54:49.689337Z"
    },
    "papermill": {
     "duration": 5.978639,
     "end_time": "2021-08-21T08:12:00.967916",
     "exception": false,
     "start_time": "2021-08-21T08:11:54.989277",
     "status": "completed"
    },
    "tags": []
   },
   "outputs": [
    {
     "name": "stderr",
     "output_type": "stream",
     "text": [
      "Downloading: \"https://download.pytorch.org/models/densenet121-a639ec97.pth\" to /root/.cache/torch/hub/checkpoints/densenet121-a639ec97.pth\n"
     ]
    },
    {
     "data": {
      "application/vnd.jupyter.widget-view+json": {
       "model_id": "df4ac506236444b5be970f308eeb7bc0",
       "version_major": 2,
       "version_minor": 0
      },
      "text/plain": [
       "  0%|          | 0.00/30.8M [00:00<?, ?B/s]"
      ]
     },
     "metadata": {},
     "output_type": "display_data"
    }
   ],
   "source": [
    "device = 'cuda' if torch.cuda.is_available() else 'cpu'\n",
    "model = torchvision.models.densenet121(pretrained= True)"
   ]
  },
  {
   "cell_type": "code",
   "execution_count": 8,
   "id": "93df41e5",
   "metadata": {
    "execution": {
     "iopub.execute_input": "2021-08-21T08:12:00.999633Z",
     "iopub.status.busy": "2021-08-21T08:12:00.998968Z",
     "iopub.status.idle": "2021-08-21T08:12:05.454255Z",
     "shell.execute_reply": "2021-08-21T08:12:05.453582Z",
     "shell.execute_reply.started": "2021-08-21T07:54:51.784598Z"
    },
    "papermill": {
     "duration": 4.4733,
     "end_time": "2021-08-21T08:12:05.454422",
     "exception": false,
     "start_time": "2021-08-21T08:12:00.981122",
     "status": "completed"
    },
    "tags": []
   },
   "outputs": [],
   "source": [
    "num_features = model.classifier.in_features\n",
    "model.classifier = nn.Sequential(\n",
    "                    nn.Linear(num_features, 500),\n",
    "                    nn.Linear(500, 2)\n",
    ")\n",
    "\n",
    "model = model.to(device)\n",
    "criterion = nn.CrossEntropyLoss()\n",
    "optimizer = torch.optim.Adam(model.parameters(), lr=0.002, amsgrad=True)\n",
    "scheduler = torch.optim.lr_scheduler.MultiStepLR(optimizer, milestones=[500,1000,1500], gamma=0.5)"
   ]
  },
  {
   "cell_type": "code",
   "execution_count": 9,
   "id": "9d778887",
   "metadata": {
    "execution": {
     "iopub.execute_input": "2021-08-21T08:12:05.496028Z",
     "iopub.status.busy": "2021-08-21T08:12:05.495440Z",
     "iopub.status.idle": "2021-08-21T08:22:12.432239Z",
     "shell.execute_reply": "2021-08-21T08:22:12.432669Z",
     "shell.execute_reply.started": "2021-08-21T07:54:56.053456Z"
    },
    "papermill": {
     "duration": 606.96226,
     "end_time": "2021-08-21T08:22:12.432818",
     "exception": false,
     "start_time": "2021-08-21T08:12:05.470558",
     "status": "completed"
    },
    "tags": []
   },
   "outputs": [
    {
     "name": "stdout",
     "output_type": "stream",
     "text": [
      "Running for epoch 1/3\n",
      "[Epoch 1/3] Iteration 200 -> Train Loss: 0.4603, Accuracy: 0.812\n",
      "[Epoch 1/3] Iteration 400 -> Train Loss: 0.3167, Accuracy: 0.719\n",
      "[Epoch 1/3] Iteration 600 -> Train Loss: 0.2314, Accuracy: 0.875\n",
      "Running for epoch 2/3\n",
      "[Epoch 2/3] Iteration 800 -> Train Loss: 0.1840, Accuracy: 0.938\n",
      "[Epoch 2/3] Iteration 1000 -> Train Loss: 0.1716, Accuracy: 0.906\n",
      "[Epoch 2/3] Iteration 1200 -> Train Loss: 0.1406, Accuracy: 0.938\n",
      "[Epoch 2/3] Iteration 1400 -> Train Loss: 0.1320, Accuracy: 0.938\n",
      "Running for epoch 3/3\n",
      "[Epoch 3/3] Iteration 1600 -> Train Loss: 0.1168, Accuracy: 0.969\n",
      "[Epoch 3/3] Iteration 1800 -> Train Loss: 0.0998, Accuracy: 1.000\n",
      "[Epoch 3/3] Iteration 2000 -> Train Loss: 0.0985, Accuracy: 0.969\n",
      "[Epoch 3/3] Iteration 2200 -> Train Loss: 0.0986, Accuracy: 0.969\n"
     ]
    },
    {
     "data": {
      "image/png": "[encoded data removed]",
      "text/plain": [
       "<Figure size 432x288 with 1 Axes>"
      ]
     },
     "metadata": {
      "needs_background": "light"
     },
     "output_type": "display_data"
    }
   ],
   "source": [
    "epochs = 3\n",
    "itr = 1\n",
    "p_itr = 200\n",
    "train_oss = 0\n",
    "loss_list = []\n",
    "acc_list = []\n",
    "iter_loss = []\n",
    "total_loss = 0\n",
    "\n",
    "\n",
    "for epoch in range(epochs):\n",
    "    print(\"Running for epoch {}/{}\".format(epoch+1, epochs))\n",
    "    for samples, labels in dataloader:\n",
    "        samples, labels = samples.to(device), labels.to(device)\n",
    "        optimizer.zero_grad()\n",
    "        output = model(samples)\n",
    "        loss = criterion(output, labels)\n",
    "        loss.backward()\n",
    "        iter_loss.append(loss)\n",
    "        optimizer.step()\n",
    "        total_loss += loss.item()\n",
    "        scheduler.step()    \n",
    "        \n",
    "        if itr%p_itr == 0:\n",
    "            pred = torch.argmax(output, dim=1)\n",
    "            correct = pred.eq(labels)\n",
    "            acc = torch.mean(correct.float())\n",
    "            print('[Epoch {}/{}] Iteration {} -> Train Loss: {:.4f}, Accuracy: {:.3f}'\n",
    "                  .format(epoch+1, epochs, itr, total_loss/p_itr, acc))\n",
    "            loss_list.append(total_loss/p_itr)\n",
    "            acc_list.append(acc)\n",
    "            total_loss = 0\n",
    "            \n",
    "        itr += 1\n",
    "            \n",
    "plt.plot(loss_list, label='loss')\n",
    "plt.plot(acc_list, label='accuracy')\n",
    "plt.legend()\n",
    "plt.title('training loss and accuracy')\n",
    "plt.show()"
   ]
  },
  {
   "cell_type": "code",
   "execution_count": 10,
   "id": "97ff1b1f",
   "metadata": {
    "execution": {
     "iopub.execute_input": "2021-08-21T08:22:12.473054Z",
     "iopub.status.busy": "2021-08-21T08:22:12.472336Z",
     "iopub.status.idle": "2021-08-21T08:22:12.579912Z",
     "shell.execute_reply": "2021-08-21T08:22:12.580353Z",
     "shell.execute_reply.started": "2021-08-21T08:10:27.603598Z"
    },
    "papermill": {
     "duration": 0.130629,
     "end_time": "2021-08-21T08:22:12.580499",
     "exception": false,
     "start_time": "2021-08-21T08:22:12.449870",
     "status": "completed"
    },
    "tags": []
   },
   "outputs": [
    {
     "data": {
      "text/plain": [
       "<Figure size 432x288 with 0 Axes>"
      ]
     },
     "metadata": {},
     "output_type": "display_data"
    }
   ],
   "source": [
    "plt.savefig('Performance.png')\n",
    "filename_pth = 'ckpt_densenet121_catdog.pth'\n",
    "torch.save(model.state_dict(), filename_pth)"
   ]
  },
  {
   "cell_type": "code",
   "execution_count": 11,
   "id": "03483ab0",
   "metadata": {
    "execution": {
     "iopub.execute_input": "2021-08-21T08:22:12.618510Z",
     "iopub.status.busy": "2021-08-21T08:22:12.618016Z",
     "iopub.status.idle": "2021-08-21T08:22:12.621429Z",
     "shell.execute_reply": "2021-08-21T08:22:12.621785Z"
    },
    "papermill": {
     "duration": 0.023777,
     "end_time": "2021-08-21T08:22:12.621918",
     "exception": false,
     "start_time": "2021-08-21T08:22:12.598141",
     "status": "completed"
    },
    "tags": []
   },
   "outputs": [],
   "source": [
    "### Loading the model\n",
    "#model = torchvision.models.densenet121(pretrained= False)\n",
    "#model.load_state_dict(torch.load(PATH))\n",
    "#model.eval()"
   ]
  },
  {
   "cell_type": "code",
   "execution_count": null,
   "id": "a44f3c44",
   "metadata": {
    "papermill": {
     "duration": 0.01718,
     "end_time": "2021-08-21T08:22:12.656427",
     "exception": false,
     "start_time": "2021-08-21T08:22:12.639247",
     "status": "completed"
    },
    "tags": []
   },
   "outputs": [],
   "source": []
  },
  {
   "cell_type": "code",
   "execution_count": null,
   "id": "b07a04df",
   "metadata": {
    "papermill": {
     "duration": 0.017723,
     "end_time": "2021-08-21T08:22:12.691476",
     "exception": false,
     "start_time": "2021-08-21T08:22:12.673753",
     "status": "completed"
    },
    "tags": []
   },
   "outputs": [],
   "source": []
  },
  {
   "cell_type": "code",
   "execution_count": 12,
   "id": "88550f44",
   "metadata": {
    "execution": {
     "iopub.execute_input": "2021-08-21T08:22:12.730985Z",
     "iopub.status.busy": "2021-08-21T08:22:12.729753Z",
     "iopub.status.idle": "2021-08-21T08:22:12.732037Z",
     "shell.execute_reply": "2021-08-21T08:22:12.732460Z",
     "shell.execute_reply.started": "2021-08-20T18:49:33.792377Z"
    },
    "papermill": {
     "duration": 0.023464,
     "end_time": "2021-08-21T08:22:12.732585",
     "exception": false,
     "start_time": "2021-08-21T08:22:12.709121",
     "status": "completed"
    },
    "tags": []
   },
   "outputs": [],
   "source": [
    "# train_dir = '../input/train/train'\n",
    "# test_dir = '../input/test1/test1'\n",
    "# train_files = os.listdir(train_dir)\n",
    "# test_files = os.listdir(test_dir)"
   ]
  },
  {
   "cell_type": "code",
   "execution_count": null,
   "id": "b0cb7923",
   "metadata": {
    "papermill": {
     "duration": 0.017265,
     "end_time": "2021-08-21T08:22:12.767217",
     "exception": false,
     "start_time": "2021-08-21T08:22:12.749952",
     "status": "completed"
    },
    "tags": []
   },
   "outputs": [],
   "source": []
  },
  {
   "cell_type": "code",
   "execution_count": null,
   "id": "1863b667",
   "metadata": {
    "papermill": {
     "duration": 0.017382,
     "end_time": "2021-08-21T08:22:12.802075",
     "exception": false,
     "start_time": "2021-08-21T08:22:12.784693",
     "status": "completed"
    },
    "tags": []
   },
   "outputs": [],
   "source": []
  },
  {
   "cell_type": "code",
   "execution_count": null,
   "id": "c5cb9fa4",
   "metadata": {
    "papermill": {
     "duration": 0.017199,
     "end_time": "2021-08-21T08:22:12.836868",
     "exception": false,
     "start_time": "2021-08-21T08:22:12.819669",
     "status": "completed"
    },
    "tags": []
   },
   "outputs": [],
   "source": []
  },
  {
   "cell_type": "code",
   "execution_count": null,
   "id": "ca2a8cd8",
   "metadata": {
    "papermill": {
     "duration": 0.01716,
     "end_time": "2021-08-21T08:22:12.871687",
     "exception": false,
     "start_time": "2021-08-21T08:22:12.854527",
     "status": "completed"
    },
    "tags": []
   },
   "outputs": [],
   "source": []
  }
 ],
 "metadata": {
  "kernelspec": {
   "display_name": "Python 3",
   "language": "python",
   "name": "python3"
  },
  "language_info": {
   "codemirror_mode": {
    "name": "ipython",
    "version": 3
   },
   "file_extension": ".py",
   "mimetype": "text/x-python",
   "name": "python",
   "nbconvert_exporter": "python",
   "pygments_lexer": "ipython3",
   "version": "3.7.10"
  },
  "papermill": {
   "default_parameters": {},
   "duration": 645.931756,
   "end_time": "2021-08-21T08:22:15.692907",
   "environment_variables": {},
   "exception": null,
   "input_path": "__notebook__.ipynb",
   "output_path": "__notebook__.ipynb",
   "parameters": {},
   "start_time": "2021-08-21T08:11:29.761151",
   "version": "2.3.3"
  },
  "widgets": {
   "application/vnd.jupyter.widget-state+json": {
    "state": {
     "01c331a6bc734229be146df23db0f372": {
      "model_module": "@jupyter-widgets/controls",
      "model_module_version": "1.5.0",
      "model_name": "DescriptionStyleModel",
      "state": {
       "_model_module": "@jupyter-widgets/controls",
       "_model_module_version": "1.5.0",
       "_model_name": "DescriptionStyleModel",
       "_view_count": null,
       "_view_module": "@jupyter-widgets/base",
       "_view_module_version": "1.2.0",
       "_view_name": "StyleView",
       "description_width": ""
      }
     },
     "0c3fdfa085fc41c7b39352115d52c114": {
      "model_module": "@jupyter-widgets/base",
      "model_module_version": "1.2.0",
      "model_name": "LayoutModel",
      "state": {
       "_model_module": "@jupyter-widgets/base",
       "_model_module_version": "1.2.0",
       "_model_name": "LayoutModel",
       "_view_count": null,
       "_view_module": "@jupyter-widgets/base",
       "_view_module_version": "1.2.0",
       "_view_name": "LayoutView",
       "align_content": null,
       "align_items": null,
       "align_self": null,
       "border": null,
       "bottom": null,
       "display": null,
       "flex": null,
       "flex_flow": null,
       "grid_area": null,
       "grid_auto_columns": null,
       "grid_auto_flow": null,
       "grid_auto_rows": null,
       "grid_column": null,
       "grid_gap": null,
       "grid_row": null,
       "grid_template_areas": null,
       "grid_template_columns": null,
       "grid_template_rows": null,
       "height": null,
       "justify_content": null,
       "justify_items": null,
       "left": null,
       "margin": null,
       "max_height": null,
       "max_width": null,
       "min_height": null,
       "min_width": null,
       "object_fit": null,
       "object_position": null,
       "order": null,
       "overflow": null,
       "overflow_x": null,
       "overflow_y": null,
       "padding": null,
       "right": null,
       "top": null,
       "visibility": null,
       "width": null
      }
     },
     "0cce4e7aa0524333a0ac75bc693dde59": {
      "model_module": "@jupyter-widgets/base",
      "model_module_version": "1.2.0",
      "model_name": "LayoutModel",
      "state": {
       "_model_module": "@jupyter-widgets/base",
       "_model_module_version": "1.2.0",
       "_model_name": "LayoutModel",
       "_view_count": null,
       "_view_module": "@jupyter-widgets/base",
       "_view_module_version": "1.2.0",
       "_view_name": "LayoutView",
       "align_content": null,
       "align_items": null,
       "align_self": null,
       "border": null,
       "bottom": null,
       "display": null,
       "flex": null,
       "flex_flow": null,
       "grid_area": null,
       "grid_auto_columns": null,
       "grid_auto_flow": null,
       "grid_auto_rows": null,
       "grid_column": null,
       "grid_gap": null,
       "grid_row": null,
       "grid_template_areas": null,
       "grid_template_columns": null,
       "grid_template_rows": null,
       "height": null,
       "justify_content": null,
       "justify_items": null,
       "left": null,
       "margin": null,
       "max_height": null,
       "max_width": null,
       "min_height": null,
       "min_width": null,
       "object_fit": null,
       "object_position": null,
       "order": null,
       "overflow": null,
       "overflow_x": null,
       "overflow_y": null,
       "padding": null,
       "right": null,
       "top": null,
       "visibility": null,
       "width": null
      }
     },
     "0eaee0c7a8cb4032a044e630e00f96dc": {
      "model_module": "@jupyter-widgets/base",
      "model_module_version": "1.2.0",
      "model_name": "LayoutModel",
      "state": {
       "_model_module": "@jupyter-widgets/base",
       "_model_module_version": "1.2.0",
       "_model_name": "LayoutModel",
       "_view_count": null,
       "_view_module": "@jupyter-widgets/base",
       "_view_module_version": "1.2.0",
       "_view_name": "LayoutView",
       "align_content": null,
       "align_items": null,
       "align_self": null,
       "border": null,
       "bottom": null,
       "display": null,
       "flex": null,
       "flex_flow": null,
       "grid_area": null,
       "grid_auto_columns": null,
       "grid_auto_flow": null,
       "grid_auto_rows": null,
       "grid_column": null,
       "grid_gap": null,
       "grid_row": null,
       "grid_template_areas": null,
       "grid_template_columns": null,
       "grid_template_rows": null,
       "height": null,
       "justify_content": null,
       "justify_items": null,
       "left": null,
       "margin": null,
       "max_height": null,
       "max_width": null,
       "min_height": null,
       "min_width": null,
       "object_fit": null,
       "object_position": null,
       "order": null,
       "overflow": null,
       "overflow_x": null,
       "overflow_y": null,
       "padding": null,
       "right": null,
       "top": null,
       "visibility": null,
       "width": null
      }
     },
     "3d5200ae99af4e3cb5f20e2f1b6ab056": {
      "model_module": "@jupyter-widgets/controls",
      "model_module_version": "1.5.0",
      "model_name": "FloatProgressModel",
      "state": {
       "_dom_classes": [],
       "_model_module": "@jupyter-widgets/controls",
       "_model_module_version": "1.5.0",
       "_model_name": "FloatProgressModel",
       "_view_count": null,
       "_view_module": "@jupyter-widgets/controls",
       "_view_module_version": "1.5.0",
       "_view_name": "ProgressView",
       "bar_style": "success",
       "description": "",
       "description_tooltip": null,
       "layout": "IPY_MODEL_0eaee0c7a8cb4032a044e630e00f96dc",
       "max": 32342954.0,
       "min": 0.0,
       "orientation": "horizontal",
       "style": "IPY_MODEL_bfe47e6ad9194a4a951832a413b9834f",
       "value": 32342954.0
      }
     },
     "48b9a5731e4242ea86eb685267d50c2d": {
      "model_module": "@jupyter-widgets/base",
      "model_module_version": "1.2.0",
      "model_name": "LayoutModel",
      "state": {
       "_model_module": "@jupyter-widgets/base",
       "_model_module_version": "1.2.0",
       "_model_name": "LayoutModel",
       "_view_count": null,
       "_view_module": "@jupyter-widgets/base",
       "_view_module_version": "1.2.0",
       "_view_name": "LayoutView",
       "align_content": null,
       "align_items": null,
       "align_self": null,
       "border": null,
       "bottom": null,
       "display": null,
       "flex": null,
       "flex_flow": null,
       "grid_area": null,
       "grid_auto_columns": null,
       "grid_auto_flow": null,
       "grid_auto_rows": null,
       "grid_column": null,
       "grid_gap": null,
       "grid_row": null,
       "grid_template_areas": null,
       "grid_template_columns": null,
       "grid_template_rows": null,
       "height": null,
       "justify_content": null,
       "justify_items": null,
       "left": null,
       "margin": null,
       "max_height": null,
       "max_width": null,
       "min_height": null,
       "min_width": null,
       "object_fit": null,
       "object_position": null,
       "order": null,
       "overflow": null,
       "overflow_x": null,
       "overflow_y": null,
       "padding": null,
       "right": null,
       "top": null,
       "visibility": null,
       "width": null
      }
     },
     "57acbd32c76549ff9b0918f472ea1fc1": {
      "model_module": "@jupyter-widgets/controls",
      "model_module_version": "1.5.0",
      "model_name": "DescriptionStyleModel",
      "state": {
       "_model_module": "@jupyter-widgets/controls",
       "_model_module_version": "1.5.0",
       "_model_name": "DescriptionStyleModel",
       "_view_count": null,
       "_view_module": "@jupyter-widgets/base",
       "_view_module_version": "1.2.0",
       "_view_name": "StyleView",
       "description_width": ""
      }
     },
     "bfe47e6ad9194a4a951832a413b9834f": {
      "model_module": "@jupyter-widgets/controls",
      "model_module_version": "1.5.0",
      "model_name": "ProgressStyleModel",
      "state": {
       "_model_module": "@jupyter-widgets/controls",
       "_model_module_version": "1.5.0",
       "_model_name": "ProgressStyleModel",
       "_view_count": null,
       "_view_module": "@jupyter-widgets/base",
       "_view_module_version": "1.2.0",
       "_view_name": "StyleView",
       "bar_color": null,
       "description_width": ""
      }
     },
     "c1997a1dd7964492997478d051ae94b4": {
      "model_module": "@jupyter-widgets/controls",
      "model_module_version": "1.5.0",
      "model_name": "HTMLModel",
      "state": {
       "_dom_classes": [],
       "_model_module": "@jupyter-widgets/controls",
       "_model_module_version": "1.5.0",
       "_model_name": "HTMLModel",
       "_view_count": null,
       "_view_module": "@jupyter-widgets/controls",
       "_view_module_version": "1.5.0",
       "_view_name": "HTMLView",
       "description": "",
       "description_tooltip": null,
       "layout": "IPY_MODEL_0c3fdfa085fc41c7b39352115d52c114",
       "placeholder": "​",
       "style": "IPY_MODEL_01c331a6bc734229be146df23db0f372",
       "value": "100%"
      }
     },
     "df4ac506236444b5be970f308eeb7bc0": {
      "model_module": "@jupyter-widgets/controls",
      "model_module_version": "1.5.0",
      "model_name": "HBoxModel",
      "state": {
       "_dom_classes": [],
       "_model_module": "@jupyter-widgets/controls",
       "_model_module_version": "1.5.0",
       "_model_name": "HBoxModel",
       "_view_count": null,
       "_view_module": "@jupyter-widgets/controls",
       "_view_module_version": "1.5.0",
       "_view_name": "HBoxView",
       "box_style": "",
       "children": [
        "IPY_MODEL_c1997a1dd7964492997478d051ae94b4",
        "IPY_MODEL_3d5200ae99af4e3cb5f20e2f1b6ab056",
        "IPY_MODEL_ee6d41528c10400f9612d8a6be3aa5cb"
       ],
       "layout": "IPY_MODEL_48b9a5731e4242ea86eb685267d50c2d"
      }
     },
     "ee6d41528c10400f9612d8a6be3aa5cb": {
      "model_module": "@jupyter-widgets/controls",
      "model_module_version": "1.5.0",
      "model_name": "HTMLModel",
      "state": {
       "_dom_classes": [],
       "_model_module": "@jupyter-widgets/controls",
       "_model_module_version": "1.5.0",
       "_model_name": "HTMLModel",
       "_view_count": null,
       "_view_module": "@jupyter-widgets/controls",
       "_view_module_version": "1.5.0",
       "_view_name": "HTMLView",
       "description": "",
       "description_tooltip": null,
       "layout": "IPY_MODEL_0cce4e7aa0524333a0ac75bc693dde59",
       "placeholder": "​",
       "style": "IPY_MODEL_57acbd32c76549ff9b0918f472ea1fc1",
       "value": " 30.8M/30.8M [00:04&lt;00:00, 11.3MB/s]"
      }
     }
    },
    "version_major": 2,
    "version_minor": 0
   }
  }
 },
 "nbformat": 4,
 "nbformat_minor": 5
}
